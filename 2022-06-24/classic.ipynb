{
 "cells": [
  {
   "cell_type": "code",
   "execution_count": 71,
   "metadata": {},
   "outputs": [
    {
     "name": "stdout",
     "output_type": "stream",
     "text": [
      "2 goats, 74973 successes, 25027 failures, 74.97 probability of success\n",
      "3 goats, 59304 successes, 40696 failures, 59.3 probability of success\n",
      "4 goats, 48899 successes, 51101 failures, 48.9 probability of success\n",
      "5 goats, 41416 successes, 58584 failures, 41.42 probability of success\n",
      "6 goats, 36052 successes, 63948 failures, 36.05 probability of success\n",
      "7 goats, 31532 successes, 68468 failures, 31.53 probability of success\n",
      "8 goats, 28221 successes, 71779 failures, 28.22 probability of success\n",
      "9 goats, 25899 successes, 74101 failures, 25.9 probability of success\n",
      "10 goats, 23695 successes, 76305 failures, 23.7 probability of success\n"
     ]
    },
    {
     "data": {
      "image/png": "[encoded data removed]",
      "text/plain": [
       "<Figure size 432x288 with 1 Axes>"
      ]
     },
     "metadata": {
      "needs_background": "light"
     },
     "output_type": "display_data"
    }
   ],
   "source": [
    "import matplotlib.pyplot as plt\n",
    "import numpy as np\n",
    "from random import randint\n",
    "from math import factorial\n",
    "\n",
    "nums_of_goats = np.arange(2, 11)\n",
    "empirical_probabilities = []\n",
    "theoretical_probabilities = []\n",
    "\n",
    "iterations = 100_000\n",
    "\n",
    "# Calculate probabilities for multiple numbers of goats\n",
    "for num_goats in nums_of_goats:\n",
    "    successes = 0\n",
    "\n",
    "    for _ in range(iterations):\n",
    "\n",
    "        # Floor preferences are 0-indexed to easily mach the 'floors' array\n",
    "        floor_preferences = [randint(0, num_goats - 1) for _ in range(num_goats)]\n",
    "\n",
    "        floors = [0] * num_goats # Initialize all floors to empty\n",
    "\n",
    "        for goat_preference in floor_preferences:\n",
    "            current_floor = goat_preference\n",
    "\n",
    "            while current_floor < num_goats and floors[current_floor] != 0:\n",
    "                current_floor += 1\n",
    "            \n",
    "            if current_floor < num_goats:\n",
    "                # This goat found an empty floor. Occupy it.\n",
    "                floors[current_floor] = 1\n",
    "            else:\n",
    "                # This goat didn't find an empty floor; immediate failure, go to the next iteration.\n",
    "                break\n",
    "\n",
    "        if all(f == 1 for f in floors):\n",
    "            successes += 1\n",
    "\n",
    "    success_probability = round(successes / iterations * 100, 2)\n",
    "    print(f\"{num_goats} goats, {successes} successes, {iterations - successes} failures, {success_probability} probability of success\")\n",
    "\n",
    "    empirical_probabilities.append(success_probability)\n",
    "\n",
    "    theoretical_successes = pow(num_goats + 1, num_goats - 1)\n",
    "    all_possibilities = pow(num_goats, num_goats)\n",
    "\n",
    "    theoretical_probabilities.append(round(theoretical_successes/all_possibilities * 100, 2))\n",
    "\n",
    "bar_width=0.25\n",
    "plt.figure()\n",
    "bar_container = plt.bar(x=nums_of_goats, height=empirical_probabilities, width=bar_width, tick_label=nums_of_goats, )\n",
    "bar_container_2 = plt.bar(x=nums_of_goats + bar_width, height=theoretical_probabilities, width=bar_width, tick_label=nums_of_goats)\n",
    "plt.bar_label(container=bar_container, labels=empirical_probabilities)\n",
    "#plt.bar_label(container=bar_container_2, labels=theoretical_probabilities)\n",
    "plt.legend((bar_container, bar_container_2), (\"Empirical\", \"Theoretical\"))\n",
    "plt.xlabel(\"Number of goats\")\n",
    "plt.ylabel(\"Probability of success (%)\")\n",
    "plt.show()"
   ]
  },
  {
   "cell_type": "code",
   "execution_count": null,
   "metadata": {},
   "outputs": [],
   "source": []
  }
 ],
 "metadata": {
  "language_info": {
   "name": "python"
  },
  "orig_nbformat": 4
 },
 "nbformat": 4,
 "nbformat_minor": 2
}
